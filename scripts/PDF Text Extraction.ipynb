{
 "cells": [
  {
   "cell_type": "markdown",
   "metadata": {},
   "source": [
    "Importar paqueterías."
   ]
  },
  {
   "cell_type": "code",
   "execution_count": 1,
   "metadata": {},
   "outputs": [],
   "source": [
    "import pandas as pd\n",
    "import PyPDF2\n",
    "import os\n",
    "import setup_analysis as sa\n",
    "import re\n",
    "import unidecode"
   ]
  },
  {
   "cell_type": "markdown",
   "metadata": {},
   "source": [
    "Crear variable texto donde todos los textos serán agregados."
   ]
  },
  {
   "cell_type": "code",
   "execution_count": 2,
   "metadata": {},
   "outputs": [],
   "source": [
    "pages = pd.DataFrame(columns=['id','paper_id','page','text'])\n",
    "papers = pd.DataFrame(columns=['id','name'])"
   ]
  },
  {
   "cell_type": "markdown",
   "metadata": {},
   "source": [
    "Hacer un loop por cada archivo en el folder de papers.<br>\n",
    "Hacer loop por las páginas de cada archivo.<br>\n",
    "Extraer texto de la página y agregar a variable texto."
   ]
  },
  {
   "cell_type": "code",
   "execution_count": 3,
   "metadata": {},
   "outputs": [
    {
     "name": "stderr",
     "output_type": "stream",
     "text": [
      "Xref table not zero-indexed. ID numbers for objects will be corrected.\n"
     ]
    },
    {
     "name": "stdout",
     "output_type": "stream",
     "text": [
      "Reading file 0187-7372-fn-29-58-00025.pdf.\n",
      "Reading file 0252-1865-apuntes-48-89-00163.pdf.\n",
      "Reading file 163-164-1-PB.pdf.\n",
      "Reading file 1657-7027-rgps-17-34-00160.pdf.\n",
      "Reading file 2448-7899-rlds-31-95.pdf.\n",
      "Reading file 2594-0651-rms-83-03-547.pdf.\n",
      "Reading file 38132698005.pdf.\n",
      "Reading file 949-Texto del artí_culo-2275-1-10-20160412.pdf.\n",
      "Reading file El trabajo femenino en su doble dimensión.pdf.\n"
     ]
    },
    {
     "name": "stderr",
     "output_type": "stream",
     "text": [
      "Xref table not zero-indexed. ID numbers for objects will be corrected.\n"
     ]
    },
    {
     "name": "stdout",
     "output_type": "stream",
     "text": [
      "Reading file Informe_CEPAL-ONUmujeres-OIT_es.pdf.\n"
     ]
    },
    {
     "name": "stderr",
     "output_type": "stream",
     "text": [
      "Xref table not zero-indexed. ID numbers for objects will be corrected.\n"
     ]
    },
    {
     "name": "stdout",
     "output_type": "stream",
     "text": [
      "Reading file Los hogares conyugales con doble proveeduría.pdf.\n"
     ]
    },
    {
     "name": "stderr",
     "output_type": "stream",
     "text": [
      "Xref table not zero-indexed. ID numbers for objects will be corrected.\n"
     ]
    },
    {
     "name": "stdout",
     "output_type": "stream",
     "text": [
      "Reading file Repercusiones del cuidado informal en la vida laboral.pdf.\n",
      "Reading file T01973.pdf.\n",
      "Reading file Trabajo de cuidados Debates y conceptualizaciones.pdf.\n"
     ]
    }
   ],
   "source": [
    "# Por cada archivo en el folder papers (i.e. por cada paper), se registra un id, nombre.\n",
    "for i in range(0,len(os.listdir(sa.dir_papers))):\n",
    "    paper_id = str(i+1)\n",
    "    name = os.listdir(sa.dir_papers)[i]\n",
    "    print(f\"Reading file {name}.\")\n",
    "    fp = os.path.join(sa.dir_papers, name).replace(\"\\\\\",\"/\")\n",
    "    data = {\"id\":[paper_id],\"name\":[name]}\n",
    "    dataf = pd.DataFrame(data)\n",
    "    papers = papers.append(dataf)\n",
    "    # Se abre el archivo para leerlo.\n",
    "    pdfFileObj = open(fp,'rb')\n",
    "    pdfReader = PyPDF2.PdfFileReader(pdfFileObj)\n",
    "    # Por cada página del paper, se registra el número de página, y el texto.\n",
    "    for j in range(0, pdfReader.numPages):\n",
    "        pageObj = pdfReader.getPage(j)\n",
    "        page_num = str(j+1)\n",
    "        page_id = paper_id + \"_\" + page_num\n",
    "        page_text = pageObj.extract_text()\n",
    "        page_text = re.sub(r'\\n','',string=page_text)\n",
    "        page_text = re.sub('\\W+',' ', string=page_text)\n",
    "        page_text = ''.join([i for i in page_text if not i.isdigit()])\n",
    "        page_text = unidecode.unidecode(page_text)\n",
    "        page_text = page_text.lower()\n",
    "        d = {'id':[page_id],'paper_id':[paper_id],'page':[page_num],'text':[page_text]}\n",
    "        df = pd.DataFrame.from_dict(d)\n",
    "        pages = pages.append(df)\n",
    "        \n",
    "\n",
    "    pdfFileObj.close()"
   ]
  },
  {
   "cell_type": "code",
   "execution_count": 5,
   "metadata": {},
   "outputs": [
    {
     "data": {
      "text/html": [
       "<div>\n",
       "<style scoped>\n",
       "    .dataframe tbody tr th:only-of-type {\n",
       "        vertical-align: middle;\n",
       "    }\n",
       "\n",
       "    .dataframe tbody tr th {\n",
       "        vertical-align: top;\n",
       "    }\n",
       "\n",
       "    .dataframe thead th {\n",
       "        text-align: right;\n",
       "    }\n",
       "</style>\n",
       "<table border=\"1\" class=\"dataframe\">\n",
       "  <thead>\n",
       "    <tr style=\"text-align: right;\">\n",
       "      <th></th>\n",
       "      <th>name</th>\n",
       "    </tr>\n",
       "    <tr>\n",
       "      <th>id</th>\n",
       "      <th></th>\n",
       "    </tr>\n",
       "  </thead>\n",
       "  <tbody>\n",
       "    <tr>\n",
       "      <th>1</th>\n",
       "      <td>0187-7372-fn-29-58-00025.pdf</td>\n",
       "    </tr>\n",
       "    <tr>\n",
       "      <th>2</th>\n",
       "      <td>0252-1865-apuntes-48-89-00163.pdf</td>\n",
       "    </tr>\n",
       "    <tr>\n",
       "      <th>3</th>\n",
       "      <td>163-164-1-PB.pdf</td>\n",
       "    </tr>\n",
       "    <tr>\n",
       "      <th>4</th>\n",
       "      <td>1657-7027-rgps-17-34-00160.pdf</td>\n",
       "    </tr>\n",
       "    <tr>\n",
       "      <th>5</th>\n",
       "      <td>2448-7899-rlds-31-95.pdf</td>\n",
       "    </tr>\n",
       "    <tr>\n",
       "      <th>6</th>\n",
       "      <td>2594-0651-rms-83-03-547.pdf</td>\n",
       "    </tr>\n",
       "    <tr>\n",
       "      <th>7</th>\n",
       "      <td>38132698005.pdf</td>\n",
       "    </tr>\n",
       "    <tr>\n",
       "      <th>8</th>\n",
       "      <td>949-Texto del artí_culo-2275-1-10-20160412.pdf</td>\n",
       "    </tr>\n",
       "    <tr>\n",
       "      <th>9</th>\n",
       "      <td>El trabajo femenino en su doble dimensión.pdf</td>\n",
       "    </tr>\n",
       "    <tr>\n",
       "      <th>10</th>\n",
       "      <td>Informe_CEPAL-ONUmujeres-OIT_es.pdf</td>\n",
       "    </tr>\n",
       "    <tr>\n",
       "      <th>11</th>\n",
       "      <td>Los hogares conyugales con doble proveeduría.pdf</td>\n",
       "    </tr>\n",
       "    <tr>\n",
       "      <th>12</th>\n",
       "      <td>Repercusiones del cuidado informal en la vida ...</td>\n",
       "    </tr>\n",
       "    <tr>\n",
       "      <th>13</th>\n",
       "      <td>T01973.pdf</td>\n",
       "    </tr>\n",
       "    <tr>\n",
       "      <th>14</th>\n",
       "      <td>Trabajo de cuidados Debates y conceptualizacio...</td>\n",
       "    </tr>\n",
       "  </tbody>\n",
       "</table>\n",
       "</div>"
      ],
      "text/plain": [
       "                                                 name\n",
       "id                                                   \n",
       "1                        0187-7372-fn-29-58-00025.pdf\n",
       "2                   0252-1865-apuntes-48-89-00163.pdf\n",
       "3                                    163-164-1-PB.pdf\n",
       "4                      1657-7027-rgps-17-34-00160.pdf\n",
       "5                            2448-7899-rlds-31-95.pdf\n",
       "6                         2594-0651-rms-83-03-547.pdf\n",
       "7                                     38132698005.pdf\n",
       "8      949-Texto del artí_culo-2275-1-10-20160412.pdf\n",
       "9       El trabajo femenino en su doble dimensión.pdf\n",
       "10                Informe_CEPAL-ONUmujeres-OIT_es.pdf\n",
       "11   Los hogares conyugales con doble proveeduría.pdf\n",
       "12  Repercusiones del cuidado informal en la vida ...\n",
       "13                                         T01973.pdf\n",
       "14  Trabajo de cuidados Debates y conceptualizacio..."
      ]
     },
     "execution_count": 5,
     "metadata": {},
     "output_type": "execute_result"
    }
   ],
   "source": [
    "papers = papers.set_index(\"id\")\n",
    "papers"
   ]
  },
  {
   "cell_type": "code",
   "execution_count": 7,
   "metadata": {},
   "outputs": [
    {
     "data": {
      "text/html": [
       "<div>\n",
       "<style scoped>\n",
       "    .dataframe tbody tr th:only-of-type {\n",
       "        vertical-align: middle;\n",
       "    }\n",
       "\n",
       "    .dataframe tbody tr th {\n",
       "        vertical-align: top;\n",
       "    }\n",
       "\n",
       "    .dataframe thead th {\n",
       "        text-align: right;\n",
       "    }\n",
       "</style>\n",
       "<table border=\"1\" class=\"dataframe\">\n",
       "  <thead>\n",
       "    <tr style=\"text-align: right;\">\n",
       "      <th></th>\n",
       "      <th>paper_id</th>\n",
       "      <th>page</th>\n",
       "      <th>text</th>\n",
       "    </tr>\n",
       "    <tr>\n",
       "      <th>id</th>\n",
       "      <th></th>\n",
       "      <th></th>\n",
       "      <th></th>\n",
       "    </tr>\n",
       "  </thead>\n",
       "  <tbody>\n",
       "    <tr>\n",
       "      <th>1_1</th>\n",
       "      <td>1</td>\n",
       "      <td>1</td>\n",
       "      <td>frontera norte vol  num  julio diciembre de  p...</td>\n",
       "    </tr>\n",
       "    <tr>\n",
       "      <th>1_2</th>\n",
       "      <td>1</td>\n",
       "      <td>2</td>\n",
       "      <td>frontera norte vol  num  julio diciembre de in...</td>\n",
       "    </tr>\n",
       "    <tr>\n",
       "      <th>1_3</th>\n",
       "      <td>1</td>\n",
       "      <td>3</td>\n",
       "      <td>lopez estrada politicas de cuidado infantil en...</td>\n",
       "    </tr>\n",
       "    <tr>\n",
       "      <th>1_4</th>\n",
       "      <td>1</td>\n",
       "      <td>4</td>\n",
       "      <td>frontera norte vol  num  julio diciembre de da...</td>\n",
       "    </tr>\n",
       "    <tr>\n",
       "      <th>1_5</th>\n",
       "      <td>1</td>\n",
       "      <td>5</td>\n",
       "      <td>lopez estrada politicas de cuidado infantil en...</td>\n",
       "    </tr>\n",
       "    <tr>\n",
       "      <th>...</th>\n",
       "      <td>...</td>\n",
       "      <td>...</td>\n",
       "      <td>...</td>\n",
       "    </tr>\n",
       "    <tr>\n",
       "      <th>14_4</th>\n",
       "      <td>14</td>\n",
       "      <td>4</td>\n",
       "      <td>trabajo de cuidados debates y conceptualizacio...</td>\n",
       "    </tr>\n",
       "    <tr>\n",
       "      <th>14_5</th>\n",
       "      <td>14</td>\n",
       "      <td>5</td>\n",
       "      <td>resenado por maria eugenia ibarra melo  la man...</td>\n",
       "    </tr>\n",
       "    <tr>\n",
       "      <th>14_6</th>\n",
       "      <td>14</td>\n",
       "      <td>6</td>\n",
       "      <td>trabajo de cuidados debates y conceptualizacio...</td>\n",
       "    </tr>\n",
       "    <tr>\n",
       "      <th>14_7</th>\n",
       "      <td>14</td>\n",
       "      <td>7</td>\n",
       "      <td>resenado por maria eugenia ibarra melo  la man...</td>\n",
       "    </tr>\n",
       "    <tr>\n",
       "      <th>14_8</th>\n",
       "      <td>14</td>\n",
       "      <td>8</td>\n",
       "      <td>trabajo de cuidados debates y conceptualizacio...</td>\n",
       "    </tr>\n",
       "  </tbody>\n",
       "</table>\n",
       "<p>301 rows × 3 columns</p>\n",
       "</div>"
      ],
      "text/plain": [
       "     paper_id page                                               text\n",
       "id                                                                   \n",
       "1_1         1    1  frontera norte vol  num  julio diciembre de  p...\n",
       "1_2         1    2  frontera norte vol  num  julio diciembre de in...\n",
       "1_3         1    3  lopez estrada politicas de cuidado infantil en...\n",
       "1_4         1    4  frontera norte vol  num  julio diciembre de da...\n",
       "1_5         1    5  lopez estrada politicas de cuidado infantil en...\n",
       "...       ...  ...                                                ...\n",
       "14_4       14    4  trabajo de cuidados debates y conceptualizacio...\n",
       "14_5       14    5  resenado por maria eugenia ibarra melo  la man...\n",
       "14_6       14    6  trabajo de cuidados debates y conceptualizacio...\n",
       "14_7       14    7  resenado por maria eugenia ibarra melo  la man...\n",
       "14_8       14    8  trabajo de cuidados debates y conceptualizacio...\n",
       "\n",
       "[301 rows x 3 columns]"
      ]
     },
     "execution_count": 7,
     "metadata": {},
     "output_type": "execute_result"
    }
   ],
   "source": [
    "pages = pages.set_index(\"id\")\n",
    "pages"
   ]
  },
  {
   "cell_type": "code",
   "execution_count": 9,
   "metadata": {},
   "outputs": [],
   "source": [
    "papers.to_csv(f\"{sa.dir_products}/csv/papers.csv\")"
   ]
  },
  {
   "cell_type": "code",
   "execution_count": 10,
   "metadata": {},
   "outputs": [],
   "source": [
    "pages.to_csv(f\"{sa.dir_products}/csv/pages.csv\",encoding='utf-8')"
   ]
  },
  {
   "cell_type": "markdown",
   "metadata": {},
   "source": [
    "<hr>"
   ]
  },
  {
   "cell_type": "code",
   "execution_count": null,
   "metadata": {},
   "outputs": [],
   "source": [
    "fp = os.path.join(sa.dir_papers,\"949-Texto del artí_culo-2275-1-10-20160412.pdf\")\n",
    "pdfFileObj = open(fp,'rb')\n",
    "pdfReader = PyPDF2.PdfFileReader(pdfFileObj)\n",
    "pageObj = pdfReader.getPage(0)\n",
    "page_text = pageObj.extract_text()\n",
    "page_text = re.sub(r'\\n','',string=page_text)\n",
    "page_text = re.sub('\\W+',' ', string=page_text)\n",
    "page_text = ''.join([i for i in page_text if not i.isdigit()])\n",
    "page_text = unidecode.unidecode(page_text)\n",
    "page_text = page_text.lower()\n",
    "page_text"
   ]
  },
  {
   "cell_type": "code",
   "execution_count": null,
   "metadata": {},
   "outputs": [],
   "source": [
    "\"HOLA\".lower()"
   ]
  },
  {
   "cell_type": "code",
   "execution_count": null,
   "metadata": {},
   "outputs": [],
   "source": [
    "\"a1a2a3s3d4f5fg6h\".isalpha()"
   ]
  },
  {
   "cell_type": "code",
   "execution_count": null,
   "metadata": {},
   "outputs": [],
   "source": [
    "pages = pages.set_index(\"id\")\n",
    "pages"
   ]
  },
  {
   "cell_type": "code",
   "execution_count": null,
   "metadata": {},
   "outputs": [],
   "source": [
    "pages.text = re.sub('[^A-Za-z0-9]+', '', string=pages.text)\n",
    "pages.text[0]"
   ]
  },
  {
   "cell_type": "markdown",
   "metadata": {},
   "source": [
    "'Abrir' un nuevo archivo 'text.txt' donde se escribirá el contenido de la variable texto."
   ]
  },
  {
   "cell_type": "code",
   "execution_count": null,
   "metadata": {},
   "outputs": [],
   "source": [
    "text_file = open(f\"{sa.dir_products}/txt/text.txt\",\"w\",encoding=\"utf-8\")\n",
    "text_file.write(text)\n",
    "text_file.close()"
   ]
  },
  {
   "cell_type": "code",
   "execution_count": null,
   "metadata": {},
   "outputs": [],
   "source": [
    "# Por cada archivo en el folder papers (i.e. por cada paper), se registra un id, nombre.\n",
    "for i in range(0,len(os.listdir(sa.dir_papers))):\n",
    "    paper_id = str(i+1)\n",
    "    name = os.listdir(sa.dir_papers)[i]\n",
    "    print(f\"Reading file {name}.\")\n",
    "    fp = os.path.join(sa.dir_papers, name).replace(\"\\\\\",\"/\")\n",
    "    data = {\"id\":[paper_id],\"name\":[name]}\n",
    "    dataf = pd.DataFrame(data)\n",
    "    papers = papers.append(dataf)\n",
    "    # Se abre el archivo para leerlo.\n",
    "    pdfFileObj = open(fp,'rb')\n",
    "    pdfReader = PyPDF2.PdfFileReader(pdfFileObj)\n",
    "    # Por cada página del paper, se registra el número de página, y el texto.\n",
    "    for j in range(0, pdfReader.numPages):\n",
    "        pageObj = pdfReader.getPage(j)\n",
    "        page_num = str(j+1)\n",
    "        page_id = paper_id + \"_\" + page_num\n",
    "        page_text = pageObj.extract_text()\n",
    "        d = {'id':[page_id],'paper_id':[paper_id],'page':[page_num],'text':[page_text]}\n",
    "        df = pd.DataFrame(d)\n",
    "        pages = pages.append(df)\n",
    "        \n",
    "\n",
    "    pdfFileObj.close()\n"
   ]
  }
 ],
 "metadata": {
  "kernelspec": {
   "display_name": "Python 3.8.8 ('base')",
   "language": "python",
   "name": "python3"
  },
  "language_info": {
   "codemirror_mode": {
    "name": "ipython",
    "version": 3
   },
   "file_extension": ".py",
   "mimetype": "text/x-python",
   "name": "python",
   "nbconvert_exporter": "python",
   "pygments_lexer": "ipython3",
   "version": "3.8.8"
  },
  "orig_nbformat": 4,
  "vscode": {
   "interpreter": {
    "hash": "f923d3fbe4212c0c18d014b49cfc9c2b5bd6e84f957e9c59082ba0f303376c57"
   }
  }
 },
 "nbformat": 4,
 "nbformat_minor": 2
}
