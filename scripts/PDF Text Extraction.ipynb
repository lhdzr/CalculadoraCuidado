{
 "cells": [
  {
   "cell_type": "code",
   "execution_count": 31,
   "metadata": {},
   "outputs": [],
   "source": [
    "import PyPDF2\n",
    "import os"
   ]
  },
  {
   "cell_type": "code",
   "execution_count": 32,
   "metadata": {},
   "outputs": [],
   "source": [
    "directory = \"/Users/leonh/Documents/Tec/7o semestre/Módulo 5/Twitter Text Mining/papers\""
   ]
  },
  {
   "cell_type": "markdown",
   "metadata": {},
   "source": [
    "Loop through the files in the folder.\n",
    "Loop through the pages in each file.\n",
    "Extract text from page and append to file."
   ]
  },
  {
   "cell_type": "code",
   "execution_count": 35,
   "metadata": {},
   "outputs": [
    {
     "name": "stdout",
     "output_type": "stream",
     "text": [
      "/Users/leonh/Documents/Tec/7o semestre/Módulo 5/Twitter Text Mining/papers/El trabajo femenino en su doble dimensión.pdf\n",
      "/Users/leonh/Documents/Tec/7o semestre/Módulo 5/Twitter Text Mining/papers/Los hogares conyugales con doble proveeduría.pdf\n",
      "/Users/leonh/Documents/Tec/7o semestre/Módulo 5/Twitter Text Mining/papers/Repercusiones del cuidado informal en la vida laboral.pdf\n",
      "/Users/leonh/Documents/Tec/7o semestre/Módulo 5/Twitter Text Mining/papers/Trabajo de cuidados Debates y conceptualizaciones.pdf\n"
     ]
    }
   ],
   "source": [
    "for filename in os.listdir(directory):\n",
    "    f = os.path.join(directory, filename).replace(\"\\\\\",\"/\")\n",
    "    if os.path.isfile(f):\n",
    "        print(f)"
   ]
  },
  {
   "cell_type": "code",
   "execution_count": 26,
   "metadata": {},
   "outputs": [],
   "source": [
    "pdfFileObj = open('/Users/leonh/Documents/Tec/7o semestre/Módulo 5/Twitter Text Mining/papers/Repercusiones del cuidado informal en la vida laboral.pdf','rb')"
   ]
  },
  {
   "cell_type": "code",
   "execution_count": 27,
   "metadata": {},
   "outputs": [
    {
     "name": "stderr",
     "output_type": "stream",
     "text": [
      "Xref table not zero-indexed. ID numbers for objects will be corrected.\n"
     ]
    }
   ],
   "source": [
    "pdfReader = PyPDF2.PdfFileReader(pdfFileObj) "
   ]
  },
  {
   "cell_type": "code",
   "execution_count": 28,
   "metadata": {},
   "outputs": [
    {
     "data": {
      "text/plain": [
       "10"
      ]
     },
     "execution_count": 28,
     "metadata": {},
     "output_type": "execute_result"
    }
   ],
   "source": [
    "pdfReader.numPages"
   ]
  },
  {
   "cell_type": "code",
   "execution_count": 29,
   "metadata": {},
   "outputs": [],
   "source": [
    "text = \"\"\n",
    "for i in range(0, pdfReader.numPages):\n",
    "    pageObj = pdfReader.getPage(i)\n",
    "    page_text = pageObj.extract_text()\n",
    "    text += page_text + \"\\n\"\n",
    "    "
   ]
  },
  {
   "cell_type": "code",
   "execution_count": 30,
   "metadata": {},
   "outputs": [],
   "source": [
    "text_file = open(\"/Users/leonh/Documents/Tec/7o semestre/Módulo 5/Twitter Text Mining/products/txt/text.txt\",\"w\",encoding=\"utf-8\")\n",
    "text_file.write(text)\n",
    "text_file.close()"
   ]
  },
  {
   "cell_type": "code",
   "execution_count": 25,
   "metadata": {},
   "outputs": [],
   "source": [
    "pdfFileObj.close() "
   ]
  }
 ],
 "metadata": {
  "kernelspec": {
   "display_name": "Python 3.8.8 ('base')",
   "language": "python",
   "name": "python3"
  },
  "language_info": {
   "codemirror_mode": {
    "name": "ipython",
    "version": 3
   },
   "file_extension": ".py",
   "mimetype": "text/x-python",
   "name": "python",
   "nbconvert_exporter": "python",
   "pygments_lexer": "ipython3",
   "version": "3.8.8"
  },
  "orig_nbformat": 4,
  "vscode": {
   "interpreter": {
    "hash": "f923d3fbe4212c0c18d014b49cfc9c2b5bd6e84f957e9c59082ba0f303376c57"
   }
  }
 },
 "nbformat": 4,
 "nbformat_minor": 2
}
