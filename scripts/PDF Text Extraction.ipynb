{
 "cells": [
  {
   "cell_type": "markdown",
   "metadata": {},
   "source": [
    "Importar paqueterías."
   ]
  },
  {
   "cell_type": "code",
   "execution_count": 1,
   "metadata": {},
   "outputs": [],
   "source": [
    "import PyPDF2\n",
    "import os\n",
    "import setup_analysis as sa"
   ]
  },
  {
   "cell_type": "markdown",
   "metadata": {},
   "source": [
    "Crear variable texto donde todos los textos serán agregados."
   ]
  },
  {
   "cell_type": "code",
   "execution_count": 7,
   "metadata": {},
   "outputs": [],
   "source": [
    "text = \"\""
   ]
  },
  {
   "cell_type": "markdown",
   "metadata": {},
   "source": [
    "Hacer un loop por cada archivo en el folder de papers.<br>\n",
    "Hacer loop por las páginas de cada archivo.<br>\n",
    "Extraer texto de la página y agregar a variable texto."
   ]
  },
  {
   "cell_type": "code",
   "execution_count": null,
   "metadata": {},
   "outputs": [],
   "source": [
    "for filename in os.listdir(sa.dir_papers):\n",
    "    print(f\"Reading file {filename}.\")\n",
    "    fp = os.path.join(sa.dir_papers, filename).replace(\"\\\\\",\"/\")\n",
    "    pdfFileObj = open(fp,'rb')\n",
    "    pdfReader = PyPDF2.PdfFileReader(pdfFileObj)\n",
    "    for i in range(0, pdfReader.numPages):\n",
    "        pageObj = pdfReader.getPage(i)\n",
    "        page_text = pageObj.extract_text()\n",
    "        text += page_text\n",
    "    pdfFileObj.close()"
   ]
  },
  {
   "cell_type": "markdown",
   "metadata": {},
   "source": [
    "'Abrir' un nuevo archivo 'text.txt' donde se escribirá el contenido de la variable texto."
   ]
  },
  {
   "cell_type": "code",
   "execution_count": 11,
   "metadata": {},
   "outputs": [],
   "source": [
    "text_file = open(f\"{sa.dir_products}/txt/text.txt\",\"w\",encoding=\"utf-8\")\n",
    "text_file.write(text)\n",
    "text_file.close()"
   ]
  }
 ],
 "metadata": {
  "kernelspec": {
   "display_name": "Python 3.8.8 ('base')",
   "language": "python",
   "name": "python3"
  },
  "language_info": {
   "codemirror_mode": {
    "name": "ipython",
    "version": 3
   },
   "file_extension": ".py",
   "mimetype": "text/x-python",
   "name": "python",
   "nbconvert_exporter": "python",
   "pygments_lexer": "ipython3",
   "version": "3.8.8"
  },
  "orig_nbformat": 4,
  "vscode": {
   "interpreter": {
    "hash": "f923d3fbe4212c0c18d014b49cfc9c2b5bd6e84f957e9c59082ba0f303376c57"
   }
  }
 },
 "nbformat": 4,
 "nbformat_minor": 2
}
